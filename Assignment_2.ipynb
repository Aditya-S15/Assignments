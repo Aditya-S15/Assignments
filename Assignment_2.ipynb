{
 "cells": [
  {
   "cell_type": "code",
   "execution_count": null,
   "id": "059631fa",
   "metadata": {},
   "outputs": [],
   "source": [
    "#Q1 : two values of boolean data type\n",
    "True - 0\n",
    "False - 1"
   ]
  },
  {
   "cell_type": "code",
   "execution_count": null,
   "id": "7b8f5c47",
   "metadata": {},
   "outputs": [],
   "source": [
    "#Q2 : types of boolean operators\n",
    "AND , OR , NOT\n",
    "AND : It gives output true only if there are even number of true's else it gives value as FALSE\n",
    "OR : It gives true if it has atleast one TRUE value,if all are FALSE then it results value as FALSE\n",
    "NOT : It negates the result of the result of an expression. "
   ]
  },
  {
   "cell_type": "code",
   "execution_count": null,
   "id": "d7a19ee2",
   "metadata": {},
   "outputs": [],
   "source": [
    "#Q3 : truth table of boolean operators\n",
    "AND\n",
    "\n",
    "A     B      Result(A AND B)\n",
    "0     0        0\n",
    "1     0        0\n",
    "0     1        0\n",
    "1     1        1\n",
    "\n",
    "OR:\n",
    "\n",
    "A     B       Result(A OR B)\n",
    "0     0        0\n",
    "0     1        1\n",
    "1     0        1\n",
    "1     1        1\n",
    "\n",
    "NOT:\n",
    "A     Result(NOT A)\n",
    "0     1\n",
    "1     0\n"
   ]
  },
  {
   "cell_type": "code",
   "execution_count": null,
   "id": "68640475",
   "metadata": {},
   "outputs": [],
   "source": [
    "#Q4 : values of the following expressions\n",
    "\n",
    "1.(5 > 4) and (3 == 5)      \n",
    "A) FALSE\n",
    "2.not (5 > 4)\n",
    "A) FALSE\n",
    "3.(5 > 4) or (3 == 5)\n",
    "A) TRUE\n",
    "4.not ((5 > 4) or (3 == 5))\n",
    "A) FALSE\n",
    "5.(True and True) and (True == False)\n",
    "A) FALSE\n",
    "6.(not False) or (not True)\n",
    "A) TRUE\n"
   ]
  },
  {
   "cell_type": "code",
   "execution_count": null,
   "id": "7a77d0de",
   "metadata": {},
   "outputs": [],
   "source": [
    "#Q5 : comparison operators\n",
    "\n",
    "equal to(==)\n",
    "less than(<)\n",
    "less than or equal to(<=)\n",
    "greater than(>)\n",
    "greater than or equal to(>=)\n",
    "not equal to(!=)"
   ]
  },
  {
   "cell_type": "code",
   "execution_count": null,
   "id": "4363fa35",
   "metadata": {},
   "outputs": [],
   "source": [
    "#Q6 : diff b/w equal to and assignment operator\n",
    "Assignment operator(=):\n",
    "    It assigns the value on the right hand side to the variable on the left side.\n",
    "     Eg.a = 5\n",
    "Equality operator(==):\n",
    "    It checks for equality between two operands,if it's equal it returns True else False."
   ]
  },
  {
   "cell_type": "code",
   "execution_count": null,
   "id": "85471613",
   "metadata": {},
   "outputs": [],
   "source": [
    "#Q7: three blocks of code\n",
    "\n",
    "block 1 : \n",
    "if spam == 10:\n",
    "    print('eggs')\n",
    "    \n",
    "block 2:\n",
    "if spam > 5:\n",
    "    print('bacon')\n",
    "block 3:\n",
    "else:\n",
    "print('ham')\n",
    "print('spam')\n",
    "print('spam')\n",
    "\n",
    "\n"
   ]
  },
  {
   "cell_type": "code",
   "execution_count": null,
   "id": "c487fc4b",
   "metadata": {},
   "outputs": [],
   "source": [
    "#Q8 : code \n",
    "spam = int(input('Enter the value of spam'))\n",
    "if spam == 1:\n",
    "    print('Hello')\n",
    "elif spam == 2:\n",
    "    print('Howdy')\n",
    "else:\n",
    "    print('Greetings')\n",
    "    "
   ]
  },
  {
   "cell_type": "code",
   "execution_count": null,
   "id": "43883284",
   "metadata": {},
   "outputs": [],
   "source": [
    "#Q9 : endless loop\n",
    "Ctrl+C"
   ]
  },
  {
   "cell_type": "code",
   "execution_count": null,
   "id": "93da96b8",
   "metadata": {},
   "outputs": [],
   "source": [
    "#Q10 : break and continue\n",
    "Break :\n",
    "    Break statement is used to terminate the loop or statement in which it is present.\n",
    "    If break is executed,control comes out of the loop and goes to the next line after break.\n",
    "    \n",
    "Continue:\n",
    "    \n",
    "    Continue statement is also control statement,where instead of terminating the loop,it forces the next iteration of the loop.\n",
    "    When continue is executed,loop inside the code for that instant will be skipped and next iteration will get executed.\n"
   ]
  },
  {
   "cell_type": "code",
   "execution_count": null,
   "id": "7d851067",
   "metadata": {},
   "outputs": [],
   "source": [
    "#Q11: diff range functions \n",
    "range(10) ----> by default the start value is 0; here the stop value given as 10 ; step size by default is 1; so 0 to 9 nos will be printed\n",
    "range(0,10)---> here start is given as 0 and stop value as 10\n",
    "range(0,10,1)-->here start is 0 , stop is 10 and step is 1\n",
    "\n",
    "Note : the output is same for all the above as these are different variations of the range function"
   ]
  },
  {
   "cell_type": "code",
   "execution_count": null,
   "id": "72a30c77",
   "metadata": {},
   "outputs": [],
   "source": [
    "#Q12 :  1 to 10 using for loop\n",
    "for i in range(1,11):\n",
    "    print(i)\n",
    "    \n",
    "# using while loop:\n",
    "i = 1\n",
    "while(i<=10):\n",
    "    print i\n",
    "    i = i+1\n",
    "    "
   ]
  },
  {
   "cell_type": "code",
   "execution_count": null,
   "id": "38a2e3aa",
   "metadata": {},
   "outputs": [],
   "source": [
    "#Q13 : \n",
    "spam.bacon()"
   ]
  }
 ],
 "metadata": {
  "kernelspec": {
   "display_name": "Python 3",
   "language": "python",
   "name": "python3"
  },
  "language_info": {
   "codemirror_mode": {
    "name": "ipython",
    "version": 3
   },
   "file_extension": ".py",
   "mimetype": "text/x-python",
   "name": "python",
   "nbconvert_exporter": "python",
   "pygments_lexer": "ipython3",
   "version": "3.8.8"
  }
 },
 "nbformat": 4,
 "nbformat_minor": 5
}
