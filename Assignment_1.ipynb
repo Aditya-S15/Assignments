{
 "cells": [
  {
   "cell_type": "code",
   "execution_count": null,
   "id": "6a3668fa",
   "metadata": {},
   "outputs": [],
   "source": [
    "# Q1 values or expressions\n",
    "* - expression (as it is an arithmetic operator)\n",
    "'hello' - values(it is a string)\n",
    "-87.8 - values(it is a float value)\n",
    "- - expression(it is an arithmetic operator)\n",
    "/ - expression(it is an arithmetic operator)\n",
    "+ - expression(it is an arithmetic operator)\n",
    "6 - values(integer)"
   ]
  },
  {
   "cell_type": "code",
   "execution_count": null,
   "id": "1530368e",
   "metadata": {},
   "outputs": [],
   "source": [
    "#Q2 difference between string and variable\n",
    "variable : Variable is an identifier to store a value in a memory location and later manupulate it if required.\n",
    "           variables can be of different data types like int,float,string.\n",
    "           Eg. a = 10 ; a is a variable\n",
    "\n",
    "string : string is a data type for sequence of characters.Anything we assign to a variable using single/double quotes is a string\n",
    "         In other words,string is defined as a type of information you would store in a variable.\n",
    "         a = 'game' . here a is variable and type of a is string"
   ]
  },
  {
   "cell_type": "code",
   "execution_count": null,
   "id": "959cd48b",
   "metadata": {},
   "outputs": [],
   "source": [
    "#Q3 three different data types\n",
    "Data types can be classified into the following categories:\n",
    "Numeric : int,float,complex\n",
    "Sequence : string,list,tuple\n",
    "Dictionary\n",
    "Boolean : True,False\n",
    "    \n",
    "Boolean is used to return either true/false i.e.0 or 1\n",
    "Dictionary is stored in key value pair and it is an unordered collection of data values\n",
    "Sequence : string is a sequence of characters\n",
    "           list is an ordered collection of heterogenous element and it is mutable.Lists can be created by enclosing the elements within []\n",
    "           tuple is similar to list except that it is immutable means,we cannot change the value of tuple.Tuple is enclosed within () and the elements are separated by ,"
   ]
  },
  {
   "cell_type": "code",
   "execution_count": null,
   "id": "bb530bb2",
   "metadata": {},
   "outputs": [],
   "source": [
    "# Q4 expression made up of\n",
    "An expression is made up of variables,operators,operands and methods which are defined according to the syntax and provides the result as a single value.\n",
    "An expression is evaluated based on order of precedence.\n",
    "Types of expressions:\n",
    "    Constant expression,arithmetic,integral,floating,relational expressions,logical and bitwise"
   ]
  },
  {
   "cell_type": "code",
   "execution_count": null,
   "id": "83bc023e",
   "metadata": {},
   "outputs": [],
   "source": [
    "#Q5 difference between statement and expressions\n",
    "Statement : A statement is an instruction that the Python interpreter can execute.\n",
    "            print and assignment are some examples of statement.If we type a statement in python,interpreter evaluates and displays the result if there is one\n",
    "            Eg: print(a) , a = 3\n",
    "Expressions : An expression is a combination of values, variables,operators.If we type a statement in python,it evaluates and displays result\n",
    "              1+1 "
   ]
  },
  {
   "cell_type": "code",
   "execution_count": 3,
   "id": "a4b2a4fb",
   "metadata": {},
   "outputs": [],
   "source": [
    "#Q6 \n",
    "bacon = 23"
   ]
  },
  {
   "cell_type": "code",
   "execution_count": 5,
   "id": "8abd5146",
   "metadata": {},
   "outputs": [
    {
     "data": {
      "text/plain": [
       "'spamspamspam'"
      ]
     },
     "execution_count": 5,
     "metadata": {},
     "output_type": "execute_result"
    }
   ],
   "source": [
    "#Q7\n",
    "'spam'+'spamspam' = 'spamspamspam'\n",
    "'spam'*3 = 'spamspamspam'"
   ]
  },
  {
   "cell_type": "code",
   "execution_count": null,
   "id": "425a07ce",
   "metadata": {},
   "outputs": [],
   "source": [
    "#Q8\n",
    "eggs is valid variable name and 100 is invalid because according to naming convention the first letter should start with alphabet or underscore and not with numerical"
   ]
  },
  {
   "cell_type": "code",
   "execution_count": null,
   "id": "056eb024",
   "metadata": {},
   "outputs": [],
   "source": [
    "#Q9\n",
    "a = 10\n",
    "int(a)\n",
    "float(a)\n",
    "str(a)"
   ]
  },
  {
   "cell_type": "code",
   "execution_count": null,
   "id": "14c3b37d",
   "metadata": {},
   "outputs": [],
   "source": [
    "#Q10 'I have eaten'+ 99 + 'burritos'\n",
    "\n",
    "The above expression causes error,because we cannot concatenate str with int.\n",
    "It can be fixed by using the below methods:\n",
    "    'I have eaten'+ str(99) + 'burritos'\n",
    "    'I have eaten'+ '99' + 'burritos'"
   ]
  },
  {
   "cell_type": "code",
   "execution_count": null,
   "id": "b67ad4ce",
   "metadata": {},
   "outputs": [],
   "source": []
  }
 ],
 "metadata": {
  "kernelspec": {
   "display_name": "Python 3",
   "language": "python",
   "name": "python3"
  },
  "language_info": {
   "codemirror_mode": {
    "name": "ipython",
    "version": 3
   },
   "file_extension": ".py",
   "mimetype": "text/x-python",
   "name": "python",
   "nbconvert_exporter": "python",
   "pygments_lexer": "ipython3",
   "version": "3.8.8"
  }
 },
 "nbformat": 4,
 "nbformat_minor": 5
}
